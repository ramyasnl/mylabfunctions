{
 "cells": [
  {
   "cell_type": "code",
   "execution_count": 1,
   "id": "eleven-monte",
   "metadata": {},
   "outputs": [
    {
     "name": "stdout",
     "output_type": "stream",
     "text": [
      "local value\n",
      "global value\n"
     ]
    }
   ],
   "source": [
    "#my functions practice\n",
    "\n",
    "x = 'global value'\n",
    "\n",
    "def foo():\n",
    "    x = 'local value'\n",
    "    print(x)\n",
    "\n",
    "foo()\n",
    "print(x)"
   ]
  },
  {
   "cell_type": "code",
   "execution_count": 2,
   "id": "external-sustainability",
   "metadata": {},
   "outputs": [
    {
     "name": "stdout",
     "output_type": "stream",
     "text": [
      "global value\n"
     ]
    }
   ],
   "source": [
    "x = 'global value'\n",
    "print(x)\n"
   ]
  },
  {
   "cell_type": "code",
   "execution_count": 4,
   "id": "dramatic-chosen",
   "metadata": {},
   "outputs": [],
   "source": [
    "def foo():#starting of the function called foo \n",
    "    x = 'local value'\n",
    "    print(x)# ending of foo run and see the output of to know about the function \n"
   ]
  },
  {
   "cell_type": "code",
   "execution_count": 5,
   "id": "absolute-congress",
   "metadata": {},
   "outputs": [
    {
     "name": "stdout",
     "output_type": "stream",
     "text": [
      "local value\n"
     ]
    }
   ],
   "source": [
    "foo()#if you run the function it will give the result by printing x which is within the function\n"
   ]
  },
  {
   "cell_type": "code",
   "execution_count": 1,
   "id": "leading-personality",
   "metadata": {},
   "outputs": [],
   "source": [
    "# square of a number \n",
    "def square():\n",
    "    print(\"give the input to be squqred press enter after typing your number:\")\n",
    "    x = input()\n",
    "    a = int(x)\n",
    "    y = a*a\n",
    "    print(y)\n",
    "    "
   ]
  },
  {
   "cell_type": "code",
   "execution_count": 2,
   "id": "pending-organic",
   "metadata": {},
   "outputs": [
    {
     "name": "stdout",
     "output_type": "stream",
     "text": [
      "give the input to be squqred press enter after typing your number:\n",
      "200\n",
      "40000\n"
     ]
    }
   ],
   "source": [
    "#calling the function to square the input number\n",
    "square()"
   ]
  },
  {
   "cell_type": "code",
   "execution_count": 8,
   "id": "described-machinery",
   "metadata": {},
   "outputs": [],
   "source": [
    "#finding (a+b)**2 power in python is **\n",
    "def addsqr():\n",
    "    print(\"enter the first no & press enter \")\n",
    "    a = input()\n",
    "    x = int(a)\n",
    "    print(\"enter the second no & press enter \")\n",
    "    b = input()\n",
    "    y = int(b)\n",
    "    z = x**2 + y**2 +2*x*y\n",
    "    print(z)"
   ]
  },
  {
   "cell_type": "code",
   "execution_count": 9,
   "id": "democratic-manner",
   "metadata": {},
   "outputs": [
    {
     "name": "stdout",
     "output_type": "stream",
     "text": [
      "enter the first no & press enter \n",
      "4\n",
      "enter the second no & press enter \n",
      "5\n",
      "81\n"
     ]
    }
   ],
   "source": [
    "#calling the function to find (a+b)**2\n",
    "addsqr()"
   ]
  },
  {
   "cell_type": "code",
   "execution_count": 11,
   "id": "colored-quest",
   "metadata": {},
   "outputs": [],
   "source": [
    "def quadraticroots():\n",
    "    print(\"enter the valueof :a press enter \")\n",
    "    x1 = input()\n",
    "    a = int(x1)\n",
    "    print(\"enter the valueof :b & press enter \")\n",
    "    x2 = input()\n",
    "    b = int(x2)\n",
    "    print(\"enter the valueof : c & press enter \")\n",
    "    x3 = input()\n",
    "    c = int(x3)\n",
    "    root1 = (-b+(b**2-4*a*c)**0.5)/2*a\n",
    "    print(\"root1_is\")\n",
    "    print(root1)\n",
    "    root2 = (-b-(b**2-4*a*c)**0.5)/2*a\n",
    "    print(\"root2_is\")\n",
    "    print(root2)"
   ]
  },
  {
   "cell_type": "code",
   "execution_count": 12,
   "id": "gentle-companion",
   "metadata": {},
   "outputs": [
    {
     "name": "stdout",
     "output_type": "stream",
     "text": [
      "enter the valueof :a press enter \n",
      "1\n",
      "enter the valueof :b & press enter \n",
      "2\n",
      "enter the valueof : c & press enter \n",
      "-8\n",
      "root1_is\n",
      "2.0\n",
      "root2_is\n",
      "-4.0\n"
     ]
    }
   ],
   "source": [
    "# calling the fuctin and printing the two square roots\n",
    "quadraticroots()"
   ]
  },
  {
   "cell_type": "code",
   "execution_count": null,
   "id": "continuous-luxury",
   "metadata": {},
   "outputs": [],
   "source": []
  }
 ],
 "metadata": {
  "kernelspec": {
   "display_name": "Python 3",
   "language": "python",
   "name": "python3"
  },
  "language_info": {
   "codemirror_mode": {
    "name": "ipython",
    "version": 3
   },
   "file_extension": ".py",
   "mimetype": "text/x-python",
   "name": "python",
   "nbconvert_exporter": "python",
   "pygments_lexer": "ipython3",
   "version": "3.8.5"
  }
 },
 "nbformat": 4,
 "nbformat_minor": 5
}
